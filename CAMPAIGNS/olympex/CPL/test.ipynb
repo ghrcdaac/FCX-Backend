{
 "cells": [
  {
   "cell_type": "code",
   "execution_count": 34,
   "metadata": {},
   "outputs": [],
   "source": [
    "import pandas as pd\n",
    "import numpy as np"
   ]
  },
  {
   "cell_type": "code",
   "execution_count": 35,
   "metadata": {},
   "outputs": [],
   "source": [
    "df = pd.read_csv(\"cpldatasanz.csv\")"
   ]
  },
  {
   "cell_type": "code",
   "execution_count": 36,
   "metadata": {},
   "outputs": [
    {
     "data": {
      "text/html": [
       "<div>\n",
       "<style scoped>\n",
       "    .dataframe tbody tr th:only-of-type {\n",
       "        vertical-align: middle;\n",
       "    }\n",
       "\n",
       "    .dataframe tbody tr th {\n",
       "        vertical-align: top;\n",
       "    }\n",
       "\n",
       "    .dataframe thead th {\n",
       "        text-align: right;\n",
       "    }\n",
       "</style>\n",
       "<table border=\"1\" class=\"dataframe\">\n",
       "  <thead>\n",
       "    <tr style=\"text-align: right;\">\n",
       "      <th></th>\n",
       "      <th>Unnamed: 0</th>\n",
       "      <th>atb</th>\n",
       "      <th>lev</th>\n",
       "      <th>Secs</th>\n",
       "      <th>lon</th>\n",
       "      <th>lat</th>\n",
       "      <th>alt</th>\n",
       "    </tr>\n",
       "  </thead>\n",
       "  <tbody>\n",
       "    <tr>\n",
       "      <th>0</th>\n",
       "      <td>0</td>\n",
       "      <td>0.001175</td>\n",
       "      <td>4287.138700</td>\n",
       "      <td>62342</td>\n",
       "      <td>-118.300650</td>\n",
       "      <td>36.021755</td>\n",
       "      <td>4935.778300</td>\n",
       "    </tr>\n",
       "    <tr>\n",
       "      <th>1</th>\n",
       "      <td>1</td>\n",
       "      <td>0.001645</td>\n",
       "      <td>3657.558600</td>\n",
       "      <td>62342</td>\n",
       "      <td>-118.299834</td>\n",
       "      <td>36.020109</td>\n",
       "      <td>4337.760700</td>\n",
       "    </tr>\n",
       "    <tr>\n",
       "      <th>2</th>\n",
       "      <td>2</td>\n",
       "      <td>0.001340</td>\n",
       "      <td>3147.900400</td>\n",
       "      <td>62342</td>\n",
       "      <td>-118.299173</td>\n",
       "      <td>36.018777</td>\n",
       "      <td>3853.653300</td>\n",
       "    </tr>\n",
       "    <tr>\n",
       "      <th>3</th>\n",
       "      <td>3</td>\n",
       "      <td>0.017955</td>\n",
       "      <td>2848.099600</td>\n",
       "      <td>62342</td>\n",
       "      <td>-118.298784</td>\n",
       "      <td>36.017993</td>\n",
       "      <td>3568.882800</td>\n",
       "    </tr>\n",
       "    <tr>\n",
       "      <th>4</th>\n",
       "      <td>4</td>\n",
       "      <td>0.092807</td>\n",
       "      <td>2818.119100</td>\n",
       "      <td>62342</td>\n",
       "      <td>-118.298745</td>\n",
       "      <td>36.017915</td>\n",
       "      <td>3540.405300</td>\n",
       "    </tr>\n",
       "    <tr>\n",
       "      <th>...</th>\n",
       "      <td>...</td>\n",
       "      <td>...</td>\n",
       "      <td>...</td>\n",
       "      <td>...</td>\n",
       "      <td>...</td>\n",
       "      <td>...</td>\n",
       "      <td>...</td>\n",
       "    </tr>\n",
       "    <tr>\n",
       "      <th>121028</th>\n",
       "      <td>121028</td>\n",
       "      <td>0.001204</td>\n",
       "      <td>209.859380</td>\n",
       "      <td>66841</td>\n",
       "      <td>-119.711591</td>\n",
       "      <td>34.302692</td>\n",
       "      <td>210.814450</td>\n",
       "    </tr>\n",
       "    <tr>\n",
       "      <th>121029</th>\n",
       "      <td>121029</td>\n",
       "      <td>0.001298</td>\n",
       "      <td>179.878900</td>\n",
       "      <td>66841</td>\n",
       "      <td>-119.711589</td>\n",
       "      <td>34.302695</td>\n",
       "      <td>180.835940</td>\n",
       "    </tr>\n",
       "    <tr>\n",
       "      <th>121030</th>\n",
       "      <td>121030</td>\n",
       "      <td>0.001099</td>\n",
       "      <td>149.900390</td>\n",
       "      <td>66841</td>\n",
       "      <td>-119.711587</td>\n",
       "      <td>34.302697</td>\n",
       "      <td>150.859380</td>\n",
       "    </tr>\n",
       "    <tr>\n",
       "      <th>121031</th>\n",
       "      <td>121031</td>\n",
       "      <td>0.001192</td>\n",
       "      <td>59.958984</td>\n",
       "      <td>66841</td>\n",
       "      <td>-119.711582</td>\n",
       "      <td>34.302704</td>\n",
       "      <td>60.921875</td>\n",
       "    </tr>\n",
       "    <tr>\n",
       "      <th>121032</th>\n",
       "      <td>121032</td>\n",
       "      <td>0.535798</td>\n",
       "      <td>29.978516</td>\n",
       "      <td>66841</td>\n",
       "      <td>-119.711581</td>\n",
       "      <td>34.302706</td>\n",
       "      <td>30.943360</td>\n",
       "    </tr>\n",
       "  </tbody>\n",
       "</table>\n",
       "<p>121033 rows × 7 columns</p>\n",
       "</div>"
      ],
      "text/plain": [
       "        Unnamed: 0       atb          lev   Secs         lon        lat  \\\n",
       "0                0  0.001175  4287.138700  62342 -118.300650  36.021755   \n",
       "1                1  0.001645  3657.558600  62342 -118.299834  36.020109   \n",
       "2                2  0.001340  3147.900400  62342 -118.299173  36.018777   \n",
       "3                3  0.017955  2848.099600  62342 -118.298784  36.017993   \n",
       "4                4  0.092807  2818.119100  62342 -118.298745  36.017915   \n",
       "...            ...       ...          ...    ...         ...        ...   \n",
       "121028      121028  0.001204   209.859380  66841 -119.711591  34.302692   \n",
       "121029      121029  0.001298   179.878900  66841 -119.711589  34.302695   \n",
       "121030      121030  0.001099   149.900390  66841 -119.711587  34.302697   \n",
       "121031      121031  0.001192    59.958984  66841 -119.711582  34.302704   \n",
       "121032      121032  0.535798    29.978516  66841 -119.711581  34.302706   \n",
       "\n",
       "                alt  \n",
       "0       4935.778300  \n",
       "1       4337.760700  \n",
       "2       3853.653300  \n",
       "3       3568.882800  \n",
       "4       3540.405300  \n",
       "...             ...  \n",
       "121028   210.814450  \n",
       "121029   180.835940  \n",
       "121030   150.859380  \n",
       "121031    60.921875  \n",
       "121032    30.943360  \n",
       "\n",
       "[121033 rows x 7 columns]"
      ]
     },
     "execution_count": 36,
     "metadata": {},
     "output_type": "execute_result"
    }
   ],
   "source": [
    "df\n"
   ]
  },
  {
   "cell_type": "code",
   "execution_count": 37,
   "metadata": {},
   "outputs": [],
   "source": [
    "pd.options.mode.use_inf_as_na = True"
   ]
  },
  {
   "cell_type": "code",
   "execution_count": 38,
   "metadata": {},
   "outputs": [
    {
     "data": {
      "text/plain": [
       "False"
      ]
     },
     "execution_count": 38,
     "metadata": {},
     "output_type": "execute_result"
    }
   ],
   "source": [
    "df.isnull().values.any()"
   ]
  },
  {
   "cell_type": "code",
   "execution_count": 9,
   "metadata": {},
   "outputs": [
    {
     "data": {
      "text/html": [
       "<div>\n",
       "<style scoped>\n",
       "    .dataframe tbody tr th:only-of-type {\n",
       "        vertical-align: middle;\n",
       "    }\n",
       "\n",
       "    .dataframe tbody tr th {\n",
       "        vertical-align: top;\n",
       "    }\n",
       "\n",
       "    .dataframe thead th {\n",
       "        text-align: right;\n",
       "    }\n",
       "</style>\n",
       "<table border=\"1\" class=\"dataframe\">\n",
       "  <thead>\n",
       "    <tr style=\"text-align: right;\">\n",
       "      <th></th>\n",
       "      <th>Unnamed: 0</th>\n",
       "      <th>atb</th>\n",
       "      <th>lev</th>\n",
       "      <th>Secs</th>\n",
       "      <th>lon</th>\n",
       "      <th>lat</th>\n",
       "      <th>alt</th>\n",
       "    </tr>\n",
       "  </thead>\n",
       "  <tbody>\n",
       "  </tbody>\n",
       "</table>\n",
       "</div>"
      ],
      "text/plain": [
       "Empty DataFrame\n",
       "Columns: [Unnamed: 0, atb, lev, Secs, lon, lat, alt]\n",
       "Index: []"
      ]
     },
     "execution_count": 9,
     "metadata": {},
     "output_type": "execute_result"
    }
   ],
   "source": [
    "df[df['lev'].isnull()]"
   ]
  },
  {
   "cell_type": "code",
   "execution_count": 27,
   "metadata": {},
   "outputs": [
    {
     "data": {
      "text/plain": [
       "0         False\n",
       "1         False\n",
       "2         False\n",
       "3         False\n",
       "4         False\n",
       "          ...  \n",
       "121028    False\n",
       "121029    False\n",
       "121030    False\n",
       "121031    False\n",
       "121032    False\n",
       "Name: atb, Length: 121033, dtype: bool"
      ]
     },
     "execution_count": 27,
     "metadata": {},
     "output_type": "execute_result"
    }
   ],
   "source": [
    "xxx = np.isnan(df['atb'])\n",
    "xxx"
   ]
  },
  {
   "cell_type": "code",
   "execution_count": null,
   "metadata": {},
   "outputs": [],
   "source": []
  },
  {
   "cell_type": "code",
   "execution_count": 28,
   "metadata": {},
   "outputs": [
    {
     "data": {
      "text/plain": [
       "0         True\n",
       "1         True\n",
       "2         True\n",
       "3         True\n",
       "4         True\n",
       "          ... \n",
       "121028    True\n",
       "121029    True\n",
       "121030    True\n",
       "121031    True\n",
       "121032    True\n",
       "Name: atb, Length: 121033, dtype: bool"
      ]
     },
     "execution_count": 28,
     "metadata": {},
     "output_type": "execute_result"
    }
   ],
   "source": [
    "xxx = np.logical_not(xxx)\n",
    "xxx"
   ]
  },
  {
   "cell_type": "code",
   "execution_count": 29,
   "metadata": {},
   "outputs": [
    {
     "data": {
      "text/plain": [
       "0         True\n",
       "1         True\n",
       "2         True\n",
       "3         True\n",
       "4         True\n",
       "          ... \n",
       "121028    True\n",
       "121029    True\n",
       "121030    True\n",
       "121031    True\n",
       "121032    True\n",
       "Length: 121033, dtype: bool"
      ]
     },
     "execution_count": 29,
     "metadata": {},
     "output_type": "execute_result"
    }
   ],
   "source": [
    "xxx = np.logical_and(xxx, np.logical_not(np.isnan(df['lev'])))\n",
    "xxx"
   ]
  },
  {
   "cell_type": "code",
   "execution_count": 30,
   "metadata": {},
   "outputs": [],
   "source": [
    "x = np.array([1,2,3,4,5,6,7,8,9,10\n",
    "                ])"
   ]
  },
  {
   "cell_type": "code",
   "execution_count": 31,
   "metadata": {},
   "outputs": [
    {
     "data": {
      "text/plain": [
       "array([ 1,  2,  3,  4,  5,  6,  7,  8,  9, 10])"
      ]
     },
     "execution_count": 31,
     "metadata": {},
     "output_type": "execute_result"
    }
   ],
   "source": [
    "x\n"
   ]
  },
  {
   "cell_type": "code",
   "execution_count": 33,
   "metadata": {},
   "outputs": [
    {
     "data": {
      "text/plain": [
       "array([2, 4])"
      ]
     },
     "execution_count": 33,
     "metadata": {},
     "output_type": "execute_result"
    }
   ],
   "source": [
    "x[1:5:2]"
   ]
  },
  {
   "attachments": {},
   "cell_type": "markdown",
   "metadata": {},
   "source": [
    "JUST THE H5PY DIRECTLY"
   ]
  },
  {
   "cell_type": "code",
   "execution_count": 64,
   "metadata": {},
   "outputs": [
    {
     "name": "stdout",
     "output_type": "stream",
     "text": [
      "(4800,)\n",
      "<class 'numpy.ndarray'>\n",
      "(4800,)\n",
      "-0.0\n",
      "0.0\n",
      "-0.0\n",
      "0.0\n",
      "0.0\n",
      "0.0\n",
      "0.0\n",
      "0.0\n",
      "-0.0\n",
      "-0.0\n",
      "0.0\n",
      "-0.0\n",
      "0.0\n",
      "0.0\n",
      "0.0\n",
      "0.0\n",
      "0.0\n",
      "0.0\n",
      "0.0\n",
      "True\n"
     ]
    }
   ],
   "source": [
    "import h5py as h5py\n",
    "\n",
    "hasnull = False\n",
    "cplfile = \"olympex_radex_CPL_ATB_16916_20151110.hdf5\"\n",
    "# with fs.open(Hfile) as cplfile:\n",
    "with h5py.File(cplfile, 'r') as f1:\n",
    "    val = f1['Plane_Pitch'][()]\n",
    "    print(val.shape)\n",
    "    print(type(val))\n",
    "    # f = val.flatten()\n",
    "    f = val\n",
    "    s = f.shape\n",
    "    print(s)\n",
    "    for i in range(s[0]):\n",
    "        if (not(f[i]) and (f[i]==0)):\n",
    "            hasnull = True\n",
    "            print(((f[i])))\n",
    "\n",
    "print(hasnull)\n"
   ]
  },
  {
   "cell_type": "code",
   "execution_count": null,
   "metadata": {},
   "outputs": [],
   "source": []
  }
 ],
 "metadata": {
  "kernelspec": {
   "display_name": "itsc-fcx-n",
   "language": "python",
   "name": "python3"
  },
  "language_info": {
   "codemirror_mode": {
    "name": "ipython",
    "version": 3
   },
   "file_extension": ".py",
   "mimetype": "text/x-python",
   "name": "python",
   "nbconvert_exporter": "python",
   "pygments_lexer": "ipython3",
   "version": "3.10.6"
  },
  "orig_nbformat": 4,
  "vscode": {
   "interpreter": {
    "hash": "94c42ce565ea473d83a30d65058f2386f1539bb245d87254c7c90f8ee91b432c"
   }
  }
 },
 "nbformat": 4,
 "nbformat_minor": 2
}
