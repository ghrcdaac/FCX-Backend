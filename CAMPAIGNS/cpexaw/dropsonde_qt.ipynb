{
 "cells": [
  {
   "cell_type": "code",
   "execution_count": 1,
   "metadata": {},
   "outputs": [],
   "source": [
    "import xarray as xr"
   ]
  },
  {
   "cell_type": "code",
   "execution_count": 2,
   "metadata": {},
   "outputs": [
    {
     "name": "stdout",
     "output_type": "stream",
     "text": [
      "Data variables:\n",
      "    trajectory      |S1 ...\n",
      "    launch_time     int32 ...\n",
      "    pres            (time) float32 ...\n",
      "    tdry            (time) float32 ...\n",
      "    dp              (time) float32 ...\n",
      "    rh              (time) float32 ...\n",
      "    u_wind          (time) float32 ...\n",
      "    v_wind          (time) float32 ...\n",
      "    w_wind          (time) float32 ...\n",
      "    wspd            (time) float32 ...\n",
      "    wdir            (time) float32 ...\n",
      "    dz              (time) float32 ...\n",
      "    mr              (time) float32 ...\n",
      "    vt              (time) float32 ...\n",
      "    theta           (time) float32 ...\n",
      "    theta_e         (time) float32 ...\n",
      "    theta_v         (time) float32 ...\n",
      "    lat             (time) float32 ...\n",
      "    lon             (time) float32 ...\n",
      "    alt             (time) float32 ...\n",
      "    gpsalt          (time) float32 ...\n",
      "    reference_time  (obs) int32 ...\n",
      "    reference_pres  (obs) float32 ...\n",
      "    reference_tdry  (obs) float32 ...\n",
      "    reference_rh    (obs) float32 ...\n",
      "    reference_wspd  (obs) float32 ...\n",
      "    reference_wdir  (obs) float32 ...\n",
      "    reference_lat   (obs) float32 ...\n",
      "    reference_lon   (obs) float32 ...\n",
      "    reference_alt   (obs) float32 ...\n",
      "----------\n",
      "Conventions\n",
      "RepoRevision\n",
      "RepoLastChangedDate\n",
      "RepoId\n",
      "RepoBranch\n",
      "featureType\n",
      "Agency\n",
      "AltInterpSpan\n",
      "AspenVersion\n",
      "BlendLength\n",
      "CabinTemp\n",
      "ChuteArea\n",
      "ConfigSetName\n",
      "DatasetDOI\n",
      "DiscardBadCrcData\n",
      "DoQC\n",
      "DragCoef\n",
      "DropSondeMass\n",
      "DropsondeHitSfc\n",
      "Flight\n",
      "GPSAltBuddySlope\n",
      "GPSAltQCDev\n",
      "GPSAltQCWL\n",
      "GPSPosBuddySlope\n",
      "GPSPosQCDev\n",
      "GPSPosQCWL\n",
      "IgnoreLaunchAlt\n",
      "IgnoreLaunchLat\n",
      "IgnoreLaunchLon\n",
      "IgnoreLaunchPres\n",
      "IgnoreLaunchRH\n",
      "IgnoreLaunchTdry\n",
      "IgnoreLaunchWdir\n",
      "IgnoreLaunchWspd\n",
      "ObsNum\n",
      "PlatformId\n",
      "PlatformType\n",
      "PosInterpSpan\n",
      "PresBuddySlope\n",
      "PresEquilTime\n",
      "PresEquilTimeOverride\n",
      "PresMonoCheck\n",
      "PresOffset\n",
      "PresOutlier\n",
      "PresQCDev\n",
      "PresQCWL\n",
      "PresSmoothWL\n",
      "ProcessingTime\n",
      "Project\n",
      "QCDisclaimer\n",
      "RHBuddySlope\n",
      "RHEquilTime\n",
      "RHEquilTimeOverride\n",
      "RHOffset\n",
      "RHOutlier\n",
      "RHQCDev\n",
      "RHQCWL\n",
      "RHSmoothWL\n",
      "RHThreshold\n",
      "RHchoice\n",
      "ReportObservedPos\n",
      "SetHtsMissing\n",
      "SfcAltUnknown\n",
      "SfcAltitude\n",
      "SondeId\n",
      "SoundingDescription\n",
      "TdryBuddySlope\n",
      "TdryDynCor\n",
      "TdryDynCorWL\n",
      "TdryEquilTime\n",
      "TdryEquilTimeOverride\n",
      "TdryOffset\n",
      "TdryOutlier\n",
      "TdryQCDev\n",
      "TdryQCWL\n",
      "TdrySmoothWL\n",
      "UseIgnoredLaunch\n",
      "UseTheoryVentRate\n",
      "WindBuddySlope\n",
      "WindDisableW\n",
      "WindDynCor\n",
      "WindDynCorWL\n",
      "WindEquilTime\n",
      "WindErrorHigh\n",
      "WindErrorLow\n",
      "WindOutlier\n",
      "WindQCDev\n",
      "WindQCWL\n",
      "WindSats\n",
      "WindSmoothWL\n",
      "WindVVPresWL\n",
      "WindVVdelta\n"
     ]
    }
   ],
   "source": [
    "with xr.open_dataset(\"../../test_data/CPEXAW-DROPSONDE_D20210806_193025_PQC.nc\", decode_cf=False) as ds:\n",
    "        print(ds.data_vars)\n",
    "        print(\"----------\")\n",
    "        for key in ds.attrs:\n",
    "                print(key)"
   ]
  },
  {
   "cell_type": "code",
   "execution_count": 3,
   "metadata": {},
   "outputs": [
    {
     "name": "stdout",
     "output_type": "stream",
     "text": [
      "2979 - (2979,)\n",
      "2979 - (2979,)\n",
      "2979 - (2979,)\n",
      "2979 - (2979,)\n",
      "2979 - (2979,)\n",
      "2979 - (2979,)\n",
      "2979 - (2979,)\n",
      "-999.0\n",
      "-999.0\n",
      "-999.0\n"
     ]
    }
   ],
   "source": [
    "with xr.open_dataset(\"../../test_data/CPEXAW-DROPSONDE_D20210820_203208_PQC.nc\", decode_cf=False) as ds:\n",
    "        rh = ds['rh'].values # relative humidity\n",
    "        dp = ds['dp'].values # dew point\n",
    "        tdry = ds['tdry'].values # temp dry???\n",
    "        lat = ds['lat'].values\n",
    "        lon = ds['lon'].values\n",
    "        alt = ds['alt'].values\n",
    "        time = ds['time'].values\n",
    "\n",
    "        print(len(rh), \"-\", (rh.shape)) #np ndarray\n",
    "        print(len(dp), \"-\", (dp.shape)) \n",
    "        print(len(tdry), \"-\", (tdry.shape)) \n",
    "        print(len(lat), \"-\", (lat.shape))\n",
    "        print(len(lon), \"-\", (lon.shape))\n",
    "        print(len(alt), \"-\", (alt.shape))   \n",
    "        print(len(time), \"-\", (time.shape)) \n",
    "\n",
    "        # print(time, len(time)) \n",
    "        print(lat[123])\n",
    "        print(lon[123])\n",
    "        print(alt[123])   \n"
   ]
  },
  {
   "attachments": {},
   "cell_type": "markdown",
   "metadata": {},
   "source": [
    "netcdf to zarr"
   ]
  },
  {
   "cell_type": "code",
   "execution_count": 61,
   "metadata": {},
   "outputs": [],
   "source": [
    "import numpy as np\n",
    "import xarray as xr\n",
    "\n",
    "def main():\n",
    "    \"\"\"\n",
    "    Converts Level 1B crs data from s3 to zarr file and then stores it in the provided folder\n",
    "    Args:\n",
    "        folder (string): name to hold the raw files.\n",
    "        file (string): the s3 url to the raw file.\n",
    "    \"\"\"\n",
    "\n",
    "    # open dataset.\n",
    "    with xr.open_dataset(\"../../test_data/CPEXAW-DROPSONDE_D20210820_203208_PQC.nc\", decode_cf=False) as ds:\n",
    "        rh = ds['rh'].values # relative humidity\n",
    "        dp = ds['dp'].values # dew point\n",
    "        tdry = ds['tdry'].values # temp dry???\n",
    "        lat = ds['lat'].values\n",
    "        lon = ds['lon'].values\n",
    "        alt = ds['alt'].values\n",
    "        time = ds['time'].values\n",
    "\n",
    "    # data formation\n",
    "    \n",
    "    # sort data by time\n",
    "    sort_idx = np.argsort(time)\n",
    "\n",
    "    lon = lon[sort_idx]\n",
    "    lat = lat[sort_idx]\n",
    "    alt = alt[sort_idx]\n",
    "    time = time[sort_idx]\n",
    "    rh = rh[sort_idx]\n",
    "    dp = dp[sort_idx]\n",
    "    tdry = tdry[sort_idx]\n",
    "\n",
    "    # remove nan and infinite using mask ???\n",
    "    mask = np.logical_and(alt != -999.0, lon != -999.0, lat != -999.0)\n",
    "    # mask = np.logical_and(np.isfinite(ref), alt > 0, alt != -999.0, lon != -999.0, lat != -999.0)\n",
    "    lon = lon[mask]\n",
    "    lat = lat[mask]\n",
    "    alt = alt[mask]\n",
    "    time = time[mask]\n",
    "    rh = rh[mask]\n",
    "    dp = dp[mask]\n",
    "    tdry = tdry[mask]\n",
    "\n",
    "    # remove nan and infinite using mask ???\n",
    "    mask = np.logical_and(rh > -100, rh > -100)\n",
    "    # mask = np.logical_and(np.isfinite(ref), alt > 0, alt != -999.0, lon != -999.0, lat != -999.0)\n",
    "    lon = lon[mask]\n",
    "    lat = lat[mask]\n",
    "    alt = alt[mask]\n",
    "    time = time[mask]\n",
    "    rh = rh[mask]\n",
    "    dp = dp[mask]\n",
    "    tdry = tdry[mask]\n",
    "\n",
    "    return (lon, lat, alt, time, rh, dp, tdry)    "
   ]
  },
  {
   "cell_type": "code",
   "execution_count": 62,
   "metadata": {},
   "outputs": [],
   "source": [
    "(lon, lat, alt, time, rh, dp, tdry) = main()"
   ]
  },
  {
   "cell_type": "code",
   "execution_count": 64,
   "metadata": {},
   "outputs": [
    {
     "data": {
      "image/png": "[encoded data removed]",
      "text/plain": [
       "<Figure size 640x480 with 1 Axes>"
      ]
     },
     "metadata": {},
     "output_type": "display_data"
    }
   ],
   "source": [
    "import matplotlib.pyplot as plt\n",
    "# plt.plot(lon)\n",
    "# plt.plot(lat)\n",
    "\n",
    "# plt.ylim([0, np.max(alt)/100])\n",
    "\n",
    "plt.plot(rh)\n",
    "plt.plot(dp)\n",
    "# plt.plot(tdry)\n",
    "\n",
    "plt.ylabel('some numbers')\n",
    "plt.show()"
   ]
  },
  {
   "cell_type": "code",
   "execution_count": 39,
   "metadata": {},
   "outputs": [
    {
     "data": {
      "text/plain": [
       "9523.512"
      ]
     },
     "execution_count": 39,
     "metadata": {},
     "output_type": "execute_result"
    }
   ],
   "source": [
    "np.max(alt)"
   ]
  },
  {
   "cell_type": "code",
   "execution_count": null,
   "metadata": {},
   "outputs": [],
   "source": []
  }
 ],
 "metadata": {
  "kernelspec": {
   "display_name": "itsc-fcx-n",
   "language": "python",
   "name": "python3"
  },
  "language_info": {
   "codemirror_mode": {
    "name": "ipython",
    "version": 3
   },
   "file_extension": ".py",
   "mimetype": "text/x-python",
   "name": "python",
   "nbconvert_exporter": "python",
   "pygments_lexer": "ipython3",
   "version": "3.10.6"
  },
  "orig_nbformat": 4
 },
 "nbformat": 4,
 "nbformat_minor": 2
}
